{
 "cells": [
  {
   "cell_type": "code",
   "execution_count": 2,
   "metadata": {},
   "outputs": [],
   "source": [
    "from sklearn.metrics import precision_score, recall_score, f1_score, accuracy_score\n",
    "import matplotlib.pyplot as plt\n",
    "import matplotlib.colors as mcolors\n",
    "import pandas as pd\n",
    "import numpy as np\n",
    "\n",
    "\n",
    "def plot_ensemble_classifer_result(model_name: str, n_estimators: list, accuracy_list: list, precision_list: list,\n",
    "                                    recall_list: list, f1_list: list):\n",
    "    \n",
    "\tplt.figure(figsize=(10, 6))\n",
    "\tplt.plot(n_estimators, accuracy_list, label='Accuracy')\n",
    "\tplt.plot(n_estimators, precision_list, label='Precision')\n",
    "\tplt.plot(n_estimators, recall_list, label='Recall')\n",
    "\tplt.plot(n_estimators, f1_list, label='F1-Score')\n",
    "\tplt.xlabel('Number of Estimators')\n",
    "\tplt.ylabel('Score')\n",
    "\tplt.title(f'{model_name}Performance with Varying Estimators')\n",
    "\tplt.legend()\n",
    "\tplt.show()\n",
    "\n",
    "def visualize_classifer_predictions(X_test: pd.DataFrame, y_test: pd.DataFrame, y_pred: np.ndarray,\n",
    "\t\t\t\t\t\t\t\t\t classifer_name: str, xx=None, yy=None, Z=None):\n",
    "\t# Create a color map\n",
    "\tcmap = plt.get_cmap('viridis')\n",
    "\tnorm = mcolors.Normalize(vmin=y_test.min(), vmax=y_test.max())\n",
    "\t\n",
    "\tplt.figure(figsize=(10, 6))\n",
    "\n",
    "\tif Z is not None:\n",
    "\t\tplt.contourf(xx, yy, Z, alpha=0.4)\n",
    "\t# plt.scatter(X_test.iloc[:, 0], X_test.iloc[:, 1], c=cmap(norm(y_test)), marker='x', label='True Labels')\n",
    "\tplt.scatter(X_test.iloc[:, 0], X_test.iloc[:, 1], c=cmap(norm(y_pred)), marker='o',  edgecolor='k', s=50, label=classifer_name)\n",
    "\tplt.xlabel('Feature 1')\n",
    "\tplt.ylabel('Feature 2')\n",
    "\tplt.title(f'{classifer_name}')\n",
    "\tplt.legend()\n",
    "\tplt.tight_layout()\n",
    "\tplt.show()\n",
    "\n",
    "def add_performance_data(model_name: str, dataset: str, y_true: pd.DataFrame,\n",
    "\t\t\t\t\t\t y_pred: np.ndarray, performance_data: dict):\n",
    "    performance_data['Model'].append(model_name)\n",
    "    performance_data['Dataset'].append(dataset)\n",
    "    performance_data['Precision'].append(precision_score(y_true, y_pred, average='weighted'))\n",
    "    performance_data['Recall'].append(recall_score(y_true, y_pred, average='weighted'))\n",
    "    performance_data['F1-Score'].append(f1_score(y_true, y_pred, average='weighted'))\n"
   ]
  }
 ],
 "metadata": {
  "kernelspec": {
   "display_name": "Python 3",
   "language": "python",
   "name": "python3"
  },
  "language_info": {
   "codemirror_mode": {
    "name": "ipython",
    "version": 3
   },
   "file_extension": ".py",
   "mimetype": "text/x-python",
   "name": "python",
   "nbconvert_exporter": "python",
   "pygments_lexer": "ipython3",
   "version": "3.10.12"
  }
 },
 "nbformat": 4,
 "nbformat_minor": 2
}
